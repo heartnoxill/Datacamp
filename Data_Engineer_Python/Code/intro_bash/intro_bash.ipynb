{
 "cells": [
  {
   "cell_type": "markdown",
   "metadata": {},
   "source": [
    "## From Command-Line to Bash Script"
   ]
  },
  {
   "cell_type": "code",
   "execution_count": null,
   "metadata": {},
   "outputs": [],
   "source": [
    "cat two_cities.txt | egrep 'Sydney Carton|Charles Darnay' | wc -l"
   ]
  },
  {
   "cell_type": "code",
   "execution_count": null,
   "metadata": {},
   "outputs": [],
   "source": [
    "# A simple Bash script\n",
    "\n",
    "#!/bin/bash\n",
    "\n",
    "# Concatenate the file\n",
    "cat server_log_with_todays_date.txt\n",
    "\n",
    "\n",
    "# Now save and run"
   ]
  },
  {
   "cell_type": "code",
   "execution_count": null,
   "metadata": {},
   "outputs": [],
   "source": [
    "# Shell pipelines to Bash scripts\n",
    "\n",
    "#!/bin/bash\n",
    "\n",
    "# Create a single-line pipe\n",
    "cat soccer_scores.csv | cut -d \",\" -f 2 | tail -n +2 | sort | uniq -c\n",
    "\n",
    "# Now save and run!"
   ]
  },
  {
   "cell_type": "code",
   "execution_count": null,
   "metadata": {},
   "outputs": [],
   "source": [
    "# Extract and edit using Bash scripts\n",
    "\n",
    "#!/bin/bash\n",
    "\n",
    "# Create a sed pipe to a new file\n",
    "cat soccer_scores.csv | sed 's/Cherno/Cherno City/g' | sed 's/Arda/Arda United/g' > soccer_scores_edited.csv\n",
    "\n",
    "# Now save and run!"
   ]
  },
  {
   "cell_type": "code",
   "execution_count": null,
   "metadata": {},
   "outputs": [],
   "source": [
    "# Using arguments in Bash scripts\n",
    "\n",
    "# Echo the first and second ARGV arguments\n",
    "echo $1 \n",
    "echo $2\n",
    "\n",
    "# Echo out the entire ARGV array\n",
    "echo $@\n",
    "\n",
    "# Echo out the size of ARGV\n",
    "echo $#\n",
    "\n",
    "# --> RUN: bash script.sh Bird Fish Rabbit"
   ]
  },
  {
   "cell_type": "code",
   "execution_count": null,
   "metadata": {},
   "outputs": [],
   "source": [
    "# Using arguments with HR data\n",
    "\n",
    "# Echo the first ARGV argument\n",
    "echo $1 \n",
    "\n",
    "# Cat all the files\n",
    "# Then pipe to grep using the first ARGV argument\n",
    "# Then write out to a named csv using the first ARGV argument\n",
    "cat hire_data/* | grep \"$1\" > \"$1\".csv\n",
    "\n",
    "# RUN: bash script.sh Seoul \n",
    "# RUN: bash script.sh Tallinn"
   ]
  },
  {
   "cell_type": "markdown",
   "metadata": {},
   "source": [
    "## Variables in Bash Scripting"
   ]
  },
  {
   "cell_type": "code",
   "execution_count": null,
   "metadata": {},
   "outputs": [],
   "source": [
    "# Using variables in Bash\n",
    "\n",
    "# Create the required variable\n",
    "yourname=\"Sam\"\n",
    "\n",
    "# Print out the assigned name (Help fix this error!)\n",
    "echo \"Hi there $yourname, welcome to the website!\""
   ]
  },
  {
   "cell_type": "code",
   "execution_count": null,
   "metadata": {},
   "outputs": [],
   "source": [
    "# Converting Fahrenheit to Celsius\n",
    "\n",
    "# Get first ARGV into variable\n",
    "temp_f=$1\n",
    "\n",
    "# Subtract 32\n",
    "temp_f2=$(echo \"scale=2; $temp_f - 32\" | bc)\n",
    "\n",
    "# Multiply by 5/9\n",
    "temp_c=$(echo \"scale=2; $temp_f2 * 5 / 9\" | bc)\n",
    "\n",
    "# Print the celsius temp\n",
    "echo $temp_c\n",
    "\n",
    "# RUN: bash script.sh 108"
   ]
  },
  {
   "cell_type": "code",
   "execution_count": null,
   "metadata": {},
   "outputs": [],
   "source": [
    "# Extracting data from files\n",
    "\n",
    "# Create three variables from the temp data files' contents\n",
    "temp_a=$(cat temps/region_A)\n",
    "temp_b=$(cat temps/region_B)\n",
    "temp_c=$(cat temps/region_C)\n",
    "\n",
    "# Print out the three variables\n",
    "echo \"The three temperatures were $temp_a, $temp_b, and $temp_c\""
   ]
  },
  {
   "cell_type": "code",
   "execution_count": null,
   "metadata": {},
   "outputs": [],
   "source": [
    "# Creating an array\n",
    "\n",
    "# Create a normal array with the mentioned elements\n",
    "capital_cities=(\"Sydney\", \"Albany\", \"Paris\")\n",
    "\n",
    "####################################################################################\n",
    "\n",
    "# Create a normal array with the mentioned elements using the declare method\n",
    "declare -a capital_cities\n",
    "\n",
    "# Add (append) the elements\n",
    "capital_cities+=(\"Sydney\")\n",
    "capital_cities+=(\"Albany\")\n",
    "capital_cities+=(\"Paris\")\n",
    "\n",
    "####################################################################################\n",
    "\n",
    "# The array has been created for you\n",
    "capital_cities=(\"Sydney\" \"Albany\" \"Paris\")\n",
    "\n",
    "# Print out the entire array\n",
    "echo ${capital_cities[@]}\n",
    "\n",
    "# Print out the array length\n",
    "echo ${#capital_cities[@]}"
   ]
  },
  {
   "cell_type": "code",
   "execution_count": null,
   "metadata": {},
   "outputs": [],
   "source": [
    "# Creating associative arrays\n",
    "\n",
    "# Create empty associative array\n",
    "declare -A model_metrics\n",
    "\n",
    "# Add the key-value pairs\n",
    "model_metrics[model_accuracy]=98\n",
    "model_metrics[model_name]=\"knn\"\n",
    "model_metrics[model_f1]=0.82\n",
    "\n",
    "####################################################################################\n",
    "\n",
    "# Declare associative array with key-value pairs on one line\n",
    "declare -A model_metrics=([model_accuracy]=98 [model_name]=\"knn\" [model_f1]=0.82)\n",
    "\n",
    "# Print out the entire array\n",
    "echo ${model_metrics[@]}\n",
    "\n",
    "####################################################################################\n",
    "\n",
    "# An associative array has been created for you\n",
    "declare -A model_metrics=([model_accuracy]=98 [model_name]=\"knn\" [model_f1]=0.82)\n",
    "\n",
    "# Print out just the keys\n",
    "echo ${!model_metrics[@]}"
   ]
  },
  {
   "cell_type": "code",
   "execution_count": null,
   "metadata": {},
   "outputs": [],
   "source": [
    "# Climate calculations in Bash\n",
    "\n",
    "# Create variables from the temperature data files\n",
    "temp_b=\"$(cat temps/region_B)\"\n",
    "temp_c=\"$(cat temps/region_C)\"\n",
    "\n",
    "# Create an array with these variables as elements\n",
    "region_temps=($temp_b $temp_c)\n",
    "\n",
    "# Call an external program to get average temperature\n",
    "average_temp=$(echo \"scale=2; (${region_temps[0]} + ${region_temps[1]}) / 2\" | bc)\n",
    "\n",
    "# Append to array\n",
    "region_temps+=($average_temp)\n",
    "\n",
    "# Print out the whole array\n",
    "echo ${region_temps[@]}"
   ]
  },
  {
   "cell_type": "markdown",
   "metadata": {},
   "source": [
    "## Control Statements in Bash Scripting\n"
   ]
  },
  {
   "cell_type": "code",
   "execution_count": null,
   "metadata": {},
   "outputs": [],
   "source": [
    "# Sorting model results\n",
    "\n",
    "# Extract Accuracy from first ARGV element\n",
    "accuracy=$(grep Accuracy $1 | sed 's/.* //')\n",
    "\n",
    "# Conditionally move into good_models folder\n",
    "if [ $accuracy -ge 90 ]; then\n",
    "    mv $1 good_models/\n",
    "fi\n",
    "\n",
    "# Conditionally move into bad_models folder\n",
    "if [ $accuracy -lt 90 ]; then\n",
    "    mv $1 bad_models/\n",
    "fi\n",
    "\n",
    "# RUN: bash script.sh model_results/model_1.txt \n",
    "# RUN: bash script.sh model_results/model_2.txt "
   ]
  },
  {
   "cell_type": "code",
   "execution_count": null,
   "metadata": {},
   "outputs": [],
   "source": [
    "# Moving relevant files\n",
    "\n",
    "# Create variable from first ARGV element\n",
    "sfile=$1\n",
    "\n",
    "# Create an IF statement on sfile's contents\n",
    "if grep -q 'SRVM_' $sfile && grep -q 'vpt' $sfile; then\n",
    "\t# Move file if matched\n",
    "\tmv $sfile good_logs/\n",
    "fi\n",
    "\n",
    "# RUN: bash script.sh logfiles8.txt\n",
    "# RUN: bash script.sh log1.txt\n",
    "# RUN: bash script.sh logdays.txt"
   ]
  },
  {
   "cell_type": "code",
   "execution_count": null,
   "metadata": {},
   "outputs": [],
   "source": [
    "# A simple FOR loop\n",
    "\n",
    "# Use a FOR loop on files in directory\n",
    "for file in inherited_folder/*.R\n",
    "do  \n",
    "    # Echo out each file\n",
    "    echo $file\n",
    "done"
   ]
  },
  {
   "cell_type": "code",
   "execution_count": null,
   "metadata": {},
   "outputs": [],
   "source": [
    "# Cleaning up a directory\n",
    "\n",
    "# Create a FOR statement on files in directory\n",
    "for file in robs_files/*.py\n",
    "do  \n",
    "    # Create IF statement using grep\n",
    "    if grep -q 'RandomForestClassifier' $file ; then\n",
    "        # Move wanted files to to_keep/ folder\n",
    "        mv $file to_keep/\n",
    "    fi\n",
    "done"
   ]
  },
  {
   "cell_type": "code",
   "execution_count": null,
   "metadata": {},
   "outputs": [],
   "source": [
    "# Days of the week with CASE\n",
    "\n",
    "# Create a CASE statement matching the first ARGV element\n",
    "case $1 in\n",
    "  # Match on all weekdays\n",
    "  Monday|Tuesday|Wednesday|Thursday|Friday)\n",
    "  echo \"It is a Weekday!\";;\n",
    "  # Match on all weekend days\n",
    "  Saturday|Sunday)\n",
    "  echo \"It is a Weekend!\";;\n",
    "  # Create a default\n",
    "  *) \n",
    "  echo \"Not a day!\";;\n",
    "esac\n",
    "\n",
    "# RUN: bash script.sh Wednesday\n",
    "# RUN: bash script.sh Saturday"
   ]
  },
  {
   "cell_type": "code",
   "execution_count": null,
   "metadata": {},
   "outputs": [],
   "source": [
    "# Moving model results with CASE\n",
    "\n",
    "# Use a FOR loop for each file in 'model_out'\n",
    "for file in model_out/*\n",
    "do\n",
    "    # Create a CASE statement for each file's contents\n",
    "    case $(cat $file) in\n",
    "      # Match on tree and non-tree models\n",
    "      *\"Random Forest\"*|*GBM*|*XGBoost*)\n",
    "      mv $file tree_models/ ;;\n",
    "      *KNN*|*Logistic*)\n",
    "      rm $file ;;\n",
    "      # Create a default\n",
    "      *) \n",
    "      echo \"Unknown model in $file\" ;;\n",
    "    esac\n",
    "done"
   ]
  },
  {
   "cell_type": "markdown",
   "metadata": {},
   "source": [
    "## Functions and Automation\n"
   ]
  },
  {
   "cell_type": "code",
   "execution_count": null,
   "metadata": {},
   "outputs": [],
   "source": [
    "# Uploading model results to the cloud\n",
    "\n",
    "# Create function\n",
    "function upload_to_cloud () {\n",
    "  # Loop through files with glob expansion\n",
    "  for file in output_dir/*results*\n",
    "  do\n",
    "    # Echo that they are being uploaded\n",
    "    echo \"Uploading $file to cloud\"\n",
    "  done\n",
    "}\n",
    "\n",
    "# Call the function\n",
    "upload_to_cloud"
   ]
  },
  {
   "cell_type": "code",
   "execution_count": null,
   "metadata": {},
   "outputs": [],
   "source": [
    "# Get the current day\n",
    "\n",
    "# Create function\n",
    "what_day_is_it () {\n",
    "\n",
    "  # Parse the results of date\n",
    "  current_day=$(date | cut -d \" \" -f1)\n",
    "\n",
    "  # Echo the result\n",
    "  echo $current_day\n",
    "}\n",
    "\n",
    "# Call the function\n",
    "what_day_is_it"
   ]
  },
  {
   "cell_type": "code",
   "execution_count": null,
   "metadata": {},
   "outputs": [],
   "source": [
    "# A percentage calculator\n",
    "\n",
    "# Create a function \n",
    "function return_percentage () {\n",
    "\n",
    "  # Calculate the percentage using bc\n",
    "  percent=$(echo \"scale=2; 100 * $1 / $2\" | bc)\n",
    "\n",
    "  # Return the calculated percentage\n",
    "  echo $percent\n",
    "}\n",
    "\n",
    "# Call the function with 456 and 632 and echo the result\n",
    "return_test=$(return_percentage 456 632)\n",
    "echo \"456 out of 632 as a percent is $return_test%\""
   ]
  },
  {
   "cell_type": "code",
   "execution_count": null,
   "metadata": {},
   "outputs": [],
   "source": [
    "# Sports analytics function\n",
    "\n",
    "# Create a function\n",
    "function get_number_wins () {\n",
    "\n",
    "  # Filter aggregate results by argument\n",
    "  win_stats=$(cat soccer_scores.csv | cut -d \",\" -f2 | egrep -v 'Winner'| sort | uniq -c | egrep \"$1\")\n",
    "\n",
    "}\n",
    "\n",
    "# Call the function with specified argument\n",
    "get_number_wins \"Etar\"\n",
    "\n",
    "# Print out the global variable\n",
    "echo \"The aggregated stats are: $win_stats\""
   ]
  },
  {
   "cell_type": "code",
   "execution_count": null,
   "metadata": {},
   "outputs": [],
   "source": [
    "# Summing an array\n",
    "\n",
    "# Create a function with a local base variable\n",
    "function sum_array () {\n",
    "  local sum=0\n",
    "  # Loop through, adding to base variable\n",
    "  for number in \"$@\"\n",
    "  do\n",
    "    sum=$(echo \"$sum + $number\" | bc)\n",
    "  done\n",
    "  # Echo back the result\n",
    "  echo $sum\n",
    "  }\n",
    "# Call function with array\n",
    "test_array=(14 12 23.5 16 19.34)\n",
    "total=$(sum_array \"${test_array[@]}\")\n",
    "echo \"The total sum of the test array is $total\""
   ]
  },
  {
   "cell_type": "code",
   "execution_count": null,
   "metadata": {},
   "outputs": [],
   "source": [
    "# Creating cronjobs\n",
    "\n",
    "# Create a schedule for 30 minutes past 2am every day\n",
    "30 2 * * * bash script1.sh\n",
    "\n",
    "# Create a schedule for every 15, 30 and 45 minutes past the hour\n",
    "15,30,45 * * * * bash script2.sh\n",
    "\n",
    "# Create a schedule for 11.30pm on Sunday evening, every week\n",
    "30 23 * * 0 bash script3.sh"
   ]
  },
  {
   "cell_type": "code",
   "execution_count": null,
   "metadata": {},
   "outputs": [],
   "source": [
    "# Scheduling cronjobs with crontab\n",
    "\n",
    "# Verify there are no existing cronjobs by listing them.\n",
    "crontab -l\n",
    "\n",
    "# Use the edit command for crontab (select nano) then schedule extract_data.sh to run with Bash at 2:30am every day.\n",
    "crontab -e\n",
    "30 2 * * * bash extract_data.sh"
   ]
  }
 ],
 "metadata": {
  "kernelspec": {
   "display_name": "Python 3",
   "language": "python",
   "name": "python3"
  },
  "language_info": {
   "codemirror_mode": {
    "name": "ipython",
    "version": 3
   },
   "file_extension": ".py",
   "mimetype": "text/x-python",
   "name": "python",
   "nbconvert_exporter": "python",
   "pygments_lexer": "ipython3",
   "version": "3.8.6"
  }
 },
 "nbformat": 4,
 "nbformat_minor": 4
}
