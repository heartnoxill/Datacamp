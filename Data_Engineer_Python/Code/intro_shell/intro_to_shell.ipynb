{
 "cells": [
  {
   "cell_type": "markdown",
   "metadata": {},
   "source": [
    "## Manipulating files and directories\n",
    "This chapter is a brief introduction to the Unix shell. You'll learn why it is still in use after almost 50 years, how it compares to the graphical tools you may be more familiar with, how to move around in the shell, and how to create, modify, and delete files and folders."
   ]
  },
  {
   "cell_type": "code",
   "execution_count": null,
   "metadata": {},
   "outputs": [],
   "source": [
    "\"\"\"How does the shell compare to a desktop interface?\n",
    "An operating system like Windows, Linux, or Mac OS is a special kind of program. It controls the computer's processor, \n",
    "hard drive, and network connection, but its most important job is to run other programs.\n",
    "\n",
    "Since human beings aren't digital, they need an interface to interact with the operating system. \n",
    "The most common one these days is a graphical file explorer, which translates clicks and double-clicks into \n",
    "commands to open files and run programs. Before computers had graphical displays, though, people typed instructions \n",
    "into a program called a command-line shell. Each time a command is entered, the shell runs some other programs, \n",
    "prints their output in human-readable form, and then displays a prompt to signal that it's ready to accept the next command. \n",
    "(Its name comes from the notion that it's the \"outer shell\" of the computer.)\n",
    "\n",
    "Typing commands instead of clicking and dragging may seem clumsy at first, but as you will see, once you start spelling out \n",
    "what you want the computer to do, you can combine old commands to create new ones and automate repetitive operations with just\n",
    "a few keystrokes.\"\"\"\n",
    "\n",
    "\"\"\"\n",
    "What is the relationship between the graphical file explorer that most people use and the command-line shell?\n",
    "\n",
    "They are both interfaces for issuing commands to the operating system.\n",
    "\"\"\""
   ]
  },
  {
   "cell_type": "code",
   "execution_count": null,
   "metadata": {},
   "outputs": [],
   "source": [
    "\"\"\"\n",
    "Run pwd. Where are you right now?\n",
    "/home/repl\n",
    "\"\"\""
   ]
  },
  {
   "cell_type": "code",
   "execution_count": null,
   "metadata": {},
   "outputs": [],
   "source": [
    "\"\"\"\n",
    "Use ls with an appropriate argument to list the files in the directory /home/repl/seasonal \n",
    "(which holds information on dental surgeries by date, broken down by season). \n",
    "Which of these files is not in that directory?\n",
    "\n",
    "fall.csv\n",
    "\"\"\""
   ]
  },
  {
   "cell_type": "code",
   "execution_count": null,
   "metadata": {},
   "outputs": [],
   "source": [
    "\"\"\"\n",
    "How can I move up a directory?\n",
    "The parent of a directory is the directory above it. For example, /home is the parent of /home/repl, and /home/repl \n",
    "is the parent of /home/repl/seasonal. You can always give the absolute path of your parent directory to commands\n",
    "like cd and ls. More often, though, you will take advantage of the fact that the special path .. (two dots with no spaces) \n",
    "means \"the directory above the one I'm currently in\". If you are in /home/repl/seasonal, then cd .. moves you up to /home/repl.\n",
    "If you use cd .. once again, it puts you in /home. One more cd .. puts you in the root directory /, which is the very top of \n",
    "the filesystem. (Remember to put a space between cd and .. - it is a command and a path, not a single four-letter command.)\n",
    "\n",
    "A single dot on its own, ., always means \"the current directory\", so ls on its own and ls . do the same thing, while cd . \n",
    "has no effect (because it moves you into the directory you're currently in).\n",
    "\n",
    "One final special path is ~ (the tilde character), which means \"your home directory\", such as /home/repl. No matter where \n",
    "you are, ls ~ will always list the contents of your home directory, and cd ~ will always take you home.\n",
    "\n",
    "If you are in /home/repl/seasonal, where does cd ~/../. take you?\n",
    "\n",
    "/home\n",
    "\"\"\""
   ]
  },
  {
   "cell_type": "code",
   "execution_count": null,
   "metadata": {},
   "outputs": [],
   "source": [
    "# cut -d , -f 2 seasonal/summer.csv | grep -v Tooth"
   ]
  },
  {
   "cell_type": "code",
   "execution_count": null,
   "metadata": {},
   "outputs": [],
   "source": [
    "# head -n 3 seasonal/s* # ...or seasonal/s*.csv, or even s*/s*.csv"
   ]
  },
  {
   "cell_type": "code",
   "execution_count": null,
   "metadata": {},
   "outputs": [],
   "source": [
    "# How can I sort lines of texts?\n",
    "# cut -d , -f 2 seasonal/winter.csv | grep -v Tooth | sort -r"
   ]
  },
  {
   "cell_type": "code",
   "execution_count": null,
   "metadata": {},
   "outputs": [],
   "source": [
    "# How can I remove duplicate lines?\n",
    "# cut -d , -f 2 seasonal/winter.csv | grep -v Tooth | sort | uniq -c"
   ]
  },
  {
   "cell_type": "code",
   "execution_count": null,
   "metadata": {},
   "outputs": [],
   "source": [
    "# How can I print a variable's value?\n",
    "# echo $OSTYPE"
   ]
  },
  {
   "cell_type": "code",
   "execution_count": null,
   "metadata": {},
   "outputs": [],
   "source": [
    "# How can I repeat a command many times?\n",
    "# for filetype in docx odt pdf; do echo $filetype; done"
   ]
  },
  {
   "cell_type": "code",
   "execution_count": null,
   "metadata": {},
   "outputs": [],
   "source": [
    "# How can I repeat a command once for each file?\n",
    "# for filename in people/*; do echo $filename; done"
   ]
  },
  {
   "cell_type": "code",
   "execution_count": null,
   "metadata": {},
   "outputs": [],
   "source": [
    "# How can I run many commands in a single loop?\n",
    "# for file in seasonal/*.csv; do grep 2017-07 $file | tail -n 1; done"
   ]
  },
  {
   "cell_type": "code",
   "execution_count": null,
   "metadata": {},
   "outputs": [],
   "source": [
    "# How can I edit a file?\n",
    "\"\"\"\n",
    "Ctrl + K: delete a line.\n",
    "Ctrl + U: un-delete a line.\n",
    "Ctrl + O: save the file ('O' stands for 'output'). You will also need to press Enter to confirm the filename!\n",
    "Ctrl + X: exit the editor.\n",
    "\"\"\"\n",
    "# cp /solutions/names.txt /home/repl\n",
    "# this solution used cp instead of nano"
   ]
  }
 ],
 "metadata": {
  "kernelspec": {
   "display_name": "Python 3",
   "language": "python",
   "name": "python3"
  },
  "language_info": {
   "codemirror_mode": {
    "name": "ipython",
    "version": 3
   },
   "file_extension": ".py",
   "mimetype": "text/x-python",
   "name": "python",
   "nbconvert_exporter": "python",
   "pygments_lexer": "ipython3",
   "version": "3.8.6"
  }
 },
 "nbformat": 4,
 "nbformat_minor": 4
}
