{
 "cells": [
  {
   "cell_type": "markdown",
   "metadata": {},
   "source": [
    "## Starting with Cleaning Data\n"
   ]
  },
  {
   "cell_type": "code",
   "execution_count": null,
   "metadata": {},
   "outputs": [],
   "source": [
    "# Unifying flight formats I\n",
    "\n",
    "SELECT \n",
    "\t-- Concat the strings\n",
    "\tCONCAT(\n",
    "\t\tcarrier_code, \n",
    "\t\t' - ', \n",
    "        -- Replicate zeros\n",
    "\t\tREPLICATE('0', 9 - LEN(registration_code)), \n",
    "\t\tregistration_code, \n",
    "\t\t', ', \n",
    "\t\tairport_code)\n",
    "\tAS registration_code\n",
    "FROM flight_statistics\n",
    "-- Filter registers with more than 100 delays\n",
    "WHERE delayed > 100"
   ]
  },
  {
   "cell_type": "code",
   "execution_count": null,
   "metadata": {},
   "outputs": [],
   "source": [
    "# Unifying flight formats II\n",
    "\n",
    "SELECT \n",
    "\t-- Concat the strings\n",
    "\tCONCAT(\n",
    "\t\tcarrier_code, \n",
    "\t\t' - ', \n",
    "        -- Format the code\n",
    "\t\tFORMAT(CAST(registration_code AS INT), '0000000'),\n",
    "\t\t', ', \n",
    "\t\tairport_code\n",
    "\t) AS registration_code\n",
    "FROM flight_statistics\n",
    "-- Filter registers with more than 100 delays\n",
    "WHERE delayed > 100"
   ]
  },
  {
   "cell_type": "code",
   "execution_count": null,
   "metadata": {},
   "outputs": [],
   "source": [
    "# Trimming strings I\n",
    "\n",
    "SELECT \n",
    "\tairport_code,\n",
    "\t-- Use the appropriate function to remove the extra spaces\n",
    "    TRIM(airport_name) AS airport_name,\n",
    "\tairport_city,\n",
    "    airport_state   \n",
    "-- Select the source table\n",
    "FROM airports"
   ]
  },
  {
   "cell_type": "code",
   "execution_count": null,
   "metadata": {},
   "outputs": [],
   "source": [
    "# Trimming strings II\n",
    "\n",
    "SELECT \n",
    "\tairport_code,\n",
    "\t-- Use the appropriate function to remove the extra spaces\n",
    "    RTRIM(LTRIM(airport_name)) AS airport_name,\n",
    "\tairport_city,\n",
    "    airport_state   \n",
    "-- Select the source table\n",
    "FROM airports"
   ]
  },
  {
   "cell_type": "code",
   "execution_count": null,
   "metadata": {},
   "outputs": [],
   "source": [
    "# Unifying strings\n",
    "\n",
    "SELECT \n",
    "\tairport_code,\n",
    "\tairport_name,\n",
    "    -- Use the appropriate function to unify the values\n",
    "    REPLACE(airport_city, 'ch', 'Chicago') AS airport_city,\n",
    "\tairport_state\n",
    "FROM airports  \n",
    "WHERE airport_code IN ('ORD', 'MDW')\n",
    "\n",
    "###############################################################\n",
    "\n",
    "SELECT airport_code, airport_name, \n",
    "\t-- Use the CASE statement\n",
    "\tCASE\n",
    "        -- Unify the values\n",
    "\t\tWHEN airport_city <> 'Chicago' THEN REPLACE(airport_city, 'ch', 'Chicago')\n",
    "\t\tELSE airport_city \n",
    "\tEND AS airport_city,\n",
    "    airport_state\n",
    "FROM airports\n",
    "WHERE airport_code IN ('ORD', 'MDW')\n",
    "\n",
    "###############################################################\n",
    "\n",
    "SELECT \n",
    "\tairport_code, airport_name,\n",
    "    \t-- Convert to uppercase\n",
    "    \tUPPER(\n",
    "            -- Replace 'Chicago' with 'ch'.\n",
    "          \tREPLACE(airport_city, 'Chicago', 'ch')\n",
    "        ) AS airport_city,\n",
    "    airport_state\n",
    "FROM airports\n",
    "WHERE airport_code IN ('ORD', 'MDW')"
   ]
  },
  {
   "cell_type": "code",
   "execution_count": null,
   "metadata": {},
   "outputs": [],
   "source": [
    "# Comparing names with SOUNDEX()\n",
    "\n",
    "SELECT \n",
    "    -- First name and surname of the statisticians\n",
    "\tDISTINCT S1.statistician_name, S1.statistician_surname\n",
    "-- Join flight_statistics with itself\n",
    "FROM flight_statistics S1 INNER JOIN flight_statistics S2 \n",
    "\t-- The SOUNDEX result of the first name and surname have to be the same\n",
    "\tON SOUNDEX(S1.statistician_name) = SOUNDEX(S2.statistician_name) \n",
    "\tAND SOUNDEX(S1.statistician_surname) = SOUNDEX(S2.statistician_surname) \n",
    "-- The texts of the first name or the texts of the surname have to be different\n",
    "WHERE S1.statistician_name <> S2.statistician_name\n",
    "\tOR S1.statistician_surname <> S2.statistician_surname"
   ]
  },
  {
   "cell_type": "code",
   "execution_count": null,
   "metadata": {},
   "outputs": [],
   "source": [
    "# Comparing names with DIFFERENCE()\n",
    "\n",
    "SELECT \n",
    "    -- First name and surnames of the statisticians\n",
    "\tDISTINCT S1.statistician_name, S1.statistician_surname\n",
    "-- Join flight_statistics with itself\n",
    "FROM flight_statistics S1 INNER JOIN flight_statistics S2 \n",
    "\t-- The DIFFERENCE of the first name and surname has to be equals to 4\n",
    "\tON DIFFERENCE(S1.statistician_name, S2.statistician_name) = 4\n",
    "\tAND DIFFERENCE(S1.statistician_surname, S2.statistician_surname) = 4\n",
    "-- The texts of the first name or the texts of the surname have to be different\n",
    "WHERE S1.statistician_name <> S2.statistician_name\n",
    "\tOR S1.statistician_surname <> S2.statistician_surname"
   ]
  },
  {
   "cell_type": "markdown",
   "metadata": {},
   "source": [
    "## Dealing with missing data, duplicate data, and different date formats\n"
   ]
  },
  {
   "cell_type": "code",
   "execution_count": null,
   "metadata": {},
   "outputs": [],
   "source": [
    "# Removing missing values\n",
    "\n",
    "SELECT *\n",
    "-- Select the appropriate table\n",
    "FROM airports\n",
    "-- Exclude the rows where airport_city is NULL\n",
    "WHERE airport_city IS NOT NULL\n",
    "\n",
    "########################################################\n",
    "\n",
    "SELECT *\n",
    "-- Select the appropriate table\n",
    "FROM airports\n",
    "-- Return only the rows where airport_city is NULL\n",
    "WHERE airport_city IS NULL"
   ]
  },
  {
   "cell_type": "code",
   "execution_count": null,
   "metadata": {},
   "outputs": [],
   "source": [
    "# Removing blank spaces\n",
    "\n",
    "SELECT *\n",
    "-- Select the appropriate table\n",
    "FROM airports\n",
    "-- Exclude the rows where airport_city is missing\n",
    "WHERE airport_city <> ''\n",
    "\n",
    "########################################################\n",
    "\n",
    "SELECT *\n",
    "-- Select the appropriate table\n",
    "FROM airports\n",
    "-- Return only the rows where airport_city is missing\n",
    "WHERE airport_city = ''"
   ]
  },
  {
   "cell_type": "code",
   "execution_count": null,
   "metadata": {},
   "outputs": [],
   "source": [
    "# Filling missing values using ISNULL()\n",
    "\n",
    "SELECT\n",
    "  airport_code,\n",
    "  airport_name,\n",
    "  -- Replace missing values for airport_city with 'Unknown'\n",
    "  ISNULL(airport_city, 'Unknown') AS airport_city,\n",
    "  -- Replace missing values for airport_state with 'Unknown'\n",
    "  ISNULL(airport_state, 'Unknown') AS airport_state\n",
    "FROM airports"
   ]
  },
  {
   "cell_type": "code",
   "execution_count": null,
   "metadata": {},
   "outputs": [],
   "source": [
    "# Filling missing values using COALESCE()\n",
    "\n",
    "SELECT\n",
    "airport_code,\n",
    "airport_name,\n",
    "-- Replace the missing values\n",
    "COALESCE(airport_city, airport_state, 'Unknown') AS location\n",
    "FROM airports"
   ]
  },
  {
   "cell_type": "code",
   "execution_count": null,
   "metadata": {},
   "outputs": [],
   "source": [
    "# Treating duplicates\n",
    "\n",
    "SELECT *,\n",
    "\t   -- Apply ROW_NUMBER()\n",
    "       ROW_NUMBER() OVER (\n",
    "         \t-- Write the partition\n",
    "            PARTITION BY \n",
    "                airport_code, \n",
    "                carrier_code, \n",
    "                registration_date\n",
    "\t\t\tORDER BY \n",
    "                airport_code, \n",
    "                carrier_code, \n",
    "                registration_date\n",
    "        ) row_num\n",
    "FROM flight_statistics\n",
    "\n",
    "########################################################\n",
    "\n",
    "-- Use the WITH clause\n",
    "WITH cte AS (\n",
    "    SELECT *, \n",
    "        ROW_NUMBER() OVER (\n",
    "            PARTITION BY \n",
    "                airport_code, \n",
    "                carrier_code, \n",
    "                registration_date\n",
    "\t\t\tORDER BY \n",
    "                airport_code, \n",
    "                carrier_code, \n",
    "                registration_date\n",
    "        ) row_num\n",
    "    FROM flight_statistics\n",
    ")\n",
    "SELECT * FROM cte\n",
    "-- Get only duplicates\n",
    "WHERE row_num > 1;\n",
    "\n",
    "########################################################\n",
    "\n",
    "WITH cte AS (\n",
    "    SELECT *, \n",
    "        ROW_NUMBER() OVER (\n",
    "            PARTITION BY \n",
    "                airport_code, \n",
    "                carrier_code, \n",
    "                registration_date\n",
    "\t\t\tORDER BY \n",
    "                airport_code, \n",
    "                carrier_code, \n",
    "                registration_date\n",
    "        ) row_num\n",
    "    FROM flight_statistics\n",
    ")\n",
    "SELECT * FROM cte\n",
    "-- Exclude duplicates\n",
    "WHERE row_num = 1;"
   ]
  },
  {
   "cell_type": "code",
   "execution_count": null,
   "metadata": {},
   "outputs": [],
   "source": [
    "# Using CONVERT()\n",
    "\n",
    "SELECT \n",
    "    airport_code,\n",
    "    carrier_code,\n",
    "    canceled,\n",
    "    -- Convert the registration_date to a DATE and print it in mm/dd/yyyy format\n",
    "    CONVERT(VARCHAR(10), CAST(registration_date AS DATE), 101) AS registration_date\n",
    "FROM flight_statistics \n",
    "-- Convert the registration_date to mm/dd/yyyy format\n",
    "WHERE CONVERT(VARCHAR(10), CAST(registration_date AS DATE), 101) \n",
    "\t-- Filter the first six months of 2014 in mm/dd/yyyy format \n",
    "\tBETWEEN '01/01/2014' AND '06/30/2014'\n",
    "    \n",
    "\"\"\"\n",
    "Remember that the 101 style converts dates to the mm/dd/yyyy format. \n",
    "You can also show dates in other formats, such as dd/mm/yyyy, using other styles.\n",
    "\"\"\""
   ]
  },
  {
   "cell_type": "code",
   "execution_count": null,
   "metadata": {},
   "outputs": [],
   "source": [
    "# Using FORMAT()\n",
    "\n",
    "SELECT \n",
    "\tpilot_code,\n",
    "\tpilot_name,\n",
    "\tpilot_surname,\n",
    "\tcarrier_code,\n",
    "    -- Convert the entry_date to a DATE and print it in dd/MM/yyyy format\n",
    "\tFORMAT(CAST(entry_date AS DATE), 'dd/MM/yyyy') AS entry_date\n",
    "FROM pilots"
   ]
  },
  {
   "cell_type": "markdown",
   "metadata": {},
   "source": [
    "## Dealing with out of range values, different data types, and pattern matching\n"
   ]
  },
  {
   "cell_type": "code",
   "execution_count": null,
   "metadata": {},
   "outputs": [],
   "source": [
    "# Detecting out of range values\n",
    "\n",
    "SELECT * FROM series\n",
    "-- Detect the out of range values\n",
    "WHERE num_ratings NOT BETWEEN 0 AND 5000\n",
    "\n",
    "########################################################\n",
    "\n",
    "SELECT * FROM series\n",
    "-- Detect the out of range values\n",
    "WHERE num_ratings < 0 OR num_ratings > 5000"
   ]
  },
  {
   "cell_type": "code",
   "execution_count": null,
   "metadata": {},
   "outputs": [],
   "source": [
    "# Excluding out of range values\n",
    "\n",
    "SELECT * FROM series\n",
    "-- Exclude the out of range values\n",
    "WHERE num_ratings BETWEEN 0 AND 5000\n",
    "\n",
    "########################################################\n",
    "\n",
    "SELECT * FROM series\n",
    "-- Exclude the out of range values\n",
    "WHERE num_ratings >= 0 AND num_ratings <= 5000"
   ]
  },
  {
   "cell_type": "code",
   "execution_count": null,
   "metadata": {},
   "outputs": [],
   "source": [
    "# Detecting and excluding inaccurate data\n",
    "\n",
    "SELECT * FROM series\n",
    "-- Detect series for adults\n",
    "WHERE is_adult = 1\n",
    "-- Detect series with the minimum age smaller than 18\n",
    "AND min_age < 18\n",
    "\n",
    "########################################################\n",
    "\n",
    "SELECT * FROM series\n",
    "-- Filter series for adults\n",
    "WHERE is_adult = 1\n",
    "-- Exclude series with the minimum age greater or equals to 18\n",
    "AND min_age >= 18"
   ]
  },
  {
   "cell_type": "code",
   "execution_count": null,
   "metadata": {},
   "outputs": [],
   "source": [
    "# Using CAST() and CONVERT()\n",
    "\n",
    "-- Use CAST() to convert the num_ratings column\n",
    "SELECT AVG(CAST(num_ratings AS INT))\n",
    "FROM series\n",
    "-- Use CAST() to convert the num_ratings column\n",
    "WHERE CAST(num_ratings AS INT) BETWEEN 0 AND 5000\n",
    "\n",
    "########################################################\n",
    "\n",
    "-- Use CONVERT() to convert the num_ratings column\n",
    "SELECT AVG(CONVERT(INT, num_ratings))\n",
    "FROM series\n",
    "-- Use CONVERT() to convert the num_ratings column\n",
    "WHERE CONVERT(INT, num_ratings) BETWEEN 0 AND 5000"
   ]
  },
  {
   "cell_type": "code",
   "execution_count": null,
   "metadata": {},
   "outputs": [],
   "source": [
    "# Matching urls\n",
    "\n",
    "SELECT \n",
    "\tname,\n",
    "    -- URL of the official site\n",
    "\tofficial_site\n",
    "FROM series\n",
    "-- Get the URLs that don't match the pattern\n",
    "WHERE official_site NOT LIKE\n",
    "\t-- Write the pattern\n",
    "\t'www.%'"
   ]
  },
  {
   "cell_type": "code",
   "execution_count": null,
   "metadata": {},
   "outputs": [],
   "source": [
    "# Checking phone numbers\n",
    "\n",
    "SELECT \n",
    "\tname, \n",
    "    -- Contact number\n",
    "    contact_number\n",
    "FROM series\n",
    "-- Get the numbers that don't match the pattern\n",
    "WHERE contact_number NOT LIKE \n",
    "\t-- Write the pattern\n",
    "\t'555-___-____'"
   ]
  },
  {
   "cell_type": "markdown",
   "metadata": {},
   "source": [
    "## Combining, splitting, and transforming data\n"
   ]
  },
  {
   "cell_type": "code",
   "execution_count": null,
   "metadata": {},
   "outputs": [],
   "source": [
    "# Combining cities and states using +\n",
    "\n",
    "SELECT \n",
    "\tclient_name,\n",
    "\tclient_surname,\n",
    "    -- Concatenate city with state\n",
    "\tcity + ', ' + state AS city_state\n",
    "FROM clients\n",
    "\n",
    "########################################################\n",
    "\n",
    "SELECT \n",
    "\tclient_name,\n",
    "\tclient_surname,\n",
    "    -- Consider the NULL values\n",
    "\tISNULL(city, '') + ISNULL(', ' + state, '') AS city_state\n",
    "FROM clients"
   ]
  },
  {
   "cell_type": "code",
   "execution_count": null,
   "metadata": {},
   "outputs": [],
   "source": [
    "# Concatenating cities and states\n",
    "\n",
    "SELECT \n",
    "\t\tclient_name,\n",
    "\t\tclient_surname,\n",
    "    -- Use the function to concatenate the city and the state\n",
    "\t\tCONCAT(\n",
    "\t\t\t\tcity,\n",
    "\t\t\t\tCASE WHEN state IS NULL THEN '' \n",
    "\t\t\t\tELSE CONCAT(', ', state) END) AS city_state\n",
    "FROM clients"
   ]
  },
  {
   "cell_type": "code",
   "execution_count": null,
   "metadata": {},
   "outputs": [],
   "source": [
    "# Working with DATEFROMPARTS()\n",
    "\n",
    "SELECT \n",
    "\tproduct_name,\n",
    "\tunits,\n",
    " \t-- Use the function to concatenate the different parts of the date\n",
    "\tDATEFROMPARTS(\n",
    "      \tyear_of_sale, \n",
    "      \tmonth_of_sale, \n",
    "      \tday_of_sale) AS complete_date\n",
    "FROM paper_shop_daily_sales"
   ]
  },
  {
   "cell_type": "code",
   "execution_count": null,
   "metadata": {},
   "outputs": [],
   "source": [
    "# Using SUBSTRING() and CHARINDEX()\n",
    "\n",
    "SELECT \n",
    "\tclient_name,\n",
    "\tclient_surname,\n",
    "    -- Extract the name of the city\n",
    "\tSUBSTRING(city_state, 1, CHARINDEX(', ', city_state) - 1) AS city,\n",
    "    -- Extract the name of the state\n",
    "    SUBSTRING(city_state, CHARINDEX(', ', city_state) + 1, LEN(city_state)) AS state\n",
    "FROM clients_split"
   ]
  },
  {
   "cell_type": "code",
   "execution_count": null,
   "metadata": {},
   "outputs": [],
   "source": [
    "# Using RIGHT() , LEFT() and REVERSE()\n",
    "\n",
    "SELECT\n",
    "\tclient_name,\n",
    "\tclient_surname,\n",
    "    -- Extract the name of the city\n",
    "\tLEFT(city_state, CHARINDEX(', ', city_state) - 1) AS city,\n",
    "    -- Extract the name of the state\n",
    "    RIGHT(city_state, CHARINDEX(' ,', REVERSE(city_state)) - 1) AS state\n",
    "FROM clients_split"
   ]
  },
  {
   "cell_type": "code",
   "execution_count": null,
   "metadata": {},
   "outputs": [],
   "source": [
    "# Turning rows into columns\n",
    "\n",
    "SELECT\n",
    "\tyear_of_sale,\n",
    "    -- Select the pivoted columns\n",
    "\tnotebooks, \n",
    "\tpencils, \n",
    "\tcrayons\n",
    "FROM\n",
    "   (SELECT \n",
    "\t\tSUBSTRING(product_name_units, 1, charindex('-', product_name_units)-1) product_name, \n",
    "\t\tCAST(SUBSTRING(product_name_units, charindex('-', product_name_units)+1, len(product_name_units)) AS INT) units,\t\n",
    "    \tyear_of_sale\n",
    "\tFROM paper_shop_monthly_sales) sales\n",
    "-- Sum the units for column that contains the values that will be column headers\n",
    "PIVOT (SUM(units) FOR product_name IN (notebooks, pencils, crayons))\n",
    "-- Give the alias name\n",
    "AS paper_shop_pivot"
   ]
  },
  {
   "cell_type": "code",
   "execution_count": null,
   "metadata": {},
   "outputs": [],
   "source": [
    "# Turning columns into rows\n",
    "\n",
    "SELECT * FROM pivot_sales\n",
    "-- Use the operator to convert columns into rows\n",
    "UNPIVOT\n",
    "\t-- The resulting column that will contain the turned columns into rows\n",
    "\t(units FOR product_name IN (notebooks, pencils, crayons))\n",
    "-- Give the alias name\n",
    "AS unpivot_sales"
   ]
  }
 ],
 "metadata": {
  "kernelspec": {
   "display_name": "Python 3",
   "language": "python",
   "name": "python3"
  },
  "language_info": {
   "codemirror_mode": {
    "name": "ipython",
    "version": 3
   },
   "file_extension": ".py",
   "mimetype": "text/x-python",
   "name": "python",
   "nbconvert_exporter": "python",
   "pygments_lexer": "ipython3",
   "version": "3.8.6"
  }
 },
 "nbformat": 4,
 "nbformat_minor": 4
}
