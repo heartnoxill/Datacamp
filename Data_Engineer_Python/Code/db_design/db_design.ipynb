{
 "cells": [
  {
   "cell_type": "markdown",
   "metadata": {},
   "source": [
    "## Processing, Storing, and Organizing Data\n"
   ]
  },
  {
   "cell_type": "code",
   "execution_count": null,
   "metadata": {},
   "outputs": [],
   "source": [
    "# Deciding fact and dimension tables\n",
    "\n",
    "-- Create a route dimension table\n",
    "CREATE TABLE route (\n",
    "\troute_id INTEGER PRIMARY KEY,\n",
    "    park_name VARCHAR(160) NOT NULL,\n",
    "    city_name VARCHAR(160) NOT NULL,\n",
    "    distance_km FLOAT NOT NULL,\n",
    "    route_name VARCHAR(160) NOT NULL\n",
    ");\n",
    "-- Create a week dimension table\n",
    "CREATE TABLE week(\n",
    "\tweek_id INTEGER PRIMARY KEY,\n",
    "    week INTEGER NOT NULL,\n",
    "    month VARCHAR(160) NOT NULL,\n",
    "    year INTEGER NOT NULL\n",
    ");"
   ]
  },
  {
   "cell_type": "code",
   "execution_count": null,
   "metadata": {},
   "outputs": [],
   "source": [
    "# Querying the dimensional model\n",
    "\n",
    "SELECT \n",
    "\t-- Get the total duration of all runs\n",
    "\tSUM(duration_mins)\n",
    "FROM \n",
    "\truns_fact;\n",
    "    \n",
    "##################################################################\n",
    "\n",
    "SELECT \n",
    "\t-- Get the total duration of all runs\n",
    "\tSUM(duration_mins)\n",
    "FROM \n",
    "\truns_fact\n",
    "-- Get all the week_id's that are from July, 2019\n",
    "INNER JOIN week_dim ON week_dim.week_id = runs_fact.week_id\n",
    "WHERE month = 'July' and year = '2019';"
   ]
  },
  {
   "cell_type": "markdown",
   "metadata": {},
   "source": [
    "## Database Schemas and Normalization\n"
   ]
  },
  {
   "cell_type": "code",
   "execution_count": null,
   "metadata": {},
   "outputs": [],
   "source": [
    "# Adding foreign keys\n",
    "\n",
    "-- Add the book_id foreign key\n",
    "ALTER TABLE fact_booksales ADD CONSTRAINT sales_book\n",
    "    FOREIGN KEY (book_id) REFERENCES dim_book_star (book_id);\n",
    "    \n",
    "-- Add the time_id foreign key\n",
    "ALTER TABLE fact_booksales ADD CONSTRAINT sales_time\n",
    "   FOREIGN KEY (time_id) REFERENCES dim_time_star (time_id);\n",
    "    \n",
    "-- Add the store_id foreign key\n",
    "ALTER TABLE fact_booksales ADD CONSTRAINT sales_store\n",
    "   FOREIGN KEY (store_id) REFERENCES dim_store_star (store_id);"
   ]
  },
  {
   "cell_type": "code",
   "execution_count": null,
   "metadata": {},
   "outputs": [],
   "source": [
    "# Extending the book dimension\n",
    "\n",
    "-- Create a new table for dim_author with an author column\n",
    "CREATE TABLE dim_author (\n",
    "    author varchar(256)  NOT NULL\n",
    ");\n",
    "\n",
    "-- Insert distinct authors \n",
    "INSERT INTO dim_author\n",
    "SELECT DISTINCT author FROM dim_book_star;\n",
    "\n",
    "##################################################################\n",
    "\n",
    "-- Create a new table for dim_author with an author column\n",
    "CREATE TABLE dim_author (\n",
    "    author varchar(256)  NOT NULL\n",
    ");\n",
    "\n",
    "-- Insert authors \n",
    "INSERT INTO dim_author\n",
    "SELECT DISTINCT author FROM dim_book_star;\n",
    "\n",
    "-- Add a primary key \n",
    "ALTER TABLE dim_author ADD COLUMN author_id SERIAL PRIMARY KEY;\n",
    "\n",
    "-- Output the new table\n",
    "SELECT * FROM dim_author;"
   ]
  },
  {
   "cell_type": "code",
   "execution_count": null,
   "metadata": {},
   "outputs": [],
   "source": [
    "# Querying the star schema\n",
    "\n",
    "-- Output each state and their total sales_amount\n",
    "SELECT dim_store_star.state, sum(sales_amount)\n",
    "FROM fact_booksales\n",
    "\t-- Join to get book information\n",
    "    JOIN dim_book_star on fact_booksales.book_id = dim_book_star.book_id\n",
    "\t-- Join to get store information\n",
    "    JOIN dim_store_star on fact_booksales.store_id = dim_store_star.store_id\n",
    "-- Get all books with in the novel genre\n",
    "WHERE  \n",
    "    dim_book_star.genre = 'novel'\n",
    "-- Group results by state\n",
    "GROUP BY\n",
    "    dim_store_star.state;"
   ]
  },
  {
   "cell_type": "code",
   "execution_count": null,
   "metadata": {},
   "outputs": [],
   "source": [
    "# Querying the snowflake schema\n",
    "\n",
    "-- Output each state and their total sales_amount\n",
    "SELECT dim_state_sf.state, sum(sales_amount)\n",
    "FROM fact_booksales\n",
    "    -- Joins for the genre\n",
    "    JOIN dim_book_sf on fact_booksales.book_id = dim_book_sf.book_id\n",
    "    JOIN dim_genre_sf on dim_book_sf.genre_id = dim_genre_sf.genre_id\n",
    "    -- Joins for the state \n",
    "    JOIN dim_store_sf on fact_booksales.store_id = dim_store_sf.store_id \n",
    "    JOIN dim_city_sf on dim_store_sf.city_id = dim_city_sf.city_id\n",
    "\tJOIN dim_state_sf on  dim_city_sf.state_id = dim_state_sf.state_id\n",
    "-- Get all books with in the novel genre and group the results by state\n",
    "WHERE  \n",
    "    dim_genre_sf.genre = 'novel'\n",
    "GROUP BY\n",
    "   dim_state_sf.state;"
   ]
  },
  {
   "cell_type": "code",
   "execution_count": null,
   "metadata": {},
   "outputs": [],
   "source": [
    "# Updating countries\n",
    "\n",
    "-- Output records that need to be updated in the star schema\n",
    "SELECT * FROM dim_store_star\n",
    "WHERE country != 'USA' AND country !='CA';"
   ]
  },
  {
   "cell_type": "code",
   "execution_count": null,
   "metadata": {},
   "outputs": [],
   "source": [
    "# Extending the snowflake schema\n",
    "\n",
    "-- Add a continent_id column with default value of 1\n",
    "ALTER TABLE dim_country_sf\n",
    "ADD continent_id int NOT NULL DEFAULT(1);\n",
    "\n",
    "-- Add the foreign key constraint\n",
    "ALTER TABLE dim_country_sf ADD CONSTRAINT country_continent\n",
    "   FOREIGN KEY (continent_id) REFERENCES dim_continent_sf(continent_id);\n",
    "   \n",
    "-- Output updated table\n",
    "SELECT * FROM dim_country_sf;"
   ]
  },
  {
   "cell_type": "code",
   "execution_count": null,
   "metadata": {},
   "outputs": [],
   "source": [
    "# Converting to 1NF\n",
    "\n",
    "-- Create a new table to hold the cars rented by customers\n",
    "CREATE TABLE cust_rentals (\n",
    "  customer_id INT NOT NULL,\n",
    "  car_id VARCHAR(128) NULL,\n",
    "  invoice_id VARCHAR(128) NULL\n",
    ");\n",
    "\n",
    "-- Drop a column from customers table to satisfy 1NF\n",
    "ALTER TABLE customers\n",
    "DROP COLUMN cars_rented,\n",
    "DROP COLUMN invoice_id;"
   ]
  },
  {
   "cell_type": "code",
   "execution_count": null,
   "metadata": {},
   "outputs": [],
   "source": [
    "# Converting to 2NF\n",
    "\n",
    "-- Create a new table to satisfy 2NF\n",
    "CREATE TABLE cars (\n",
    "  car_id VARCHAR(256) NULL,\n",
    "  model VARCHAR(128),\n",
    "  manufacturer VARCHAR(128),\n",
    "  type_car VARCHAR(128),\n",
    "  condition VARCHAR(128),\n",
    "  color VARCHAR(128)\n",
    ");\n",
    "\n",
    "-- Drop columns in customer_rentals to satisfy 2NF\n",
    "ALTER TABLE customer_rentals\n",
    "DROP COLUMN model,\n",
    "DROP COLUMN manufacturer, \n",
    "DROP COLUMN type_car,\n",
    "DROP COLUMN condition,\n",
    "DROP COLUMN color;"
   ]
  },
  {
   "cell_type": "code",
   "execution_count": null,
   "metadata": {},
   "outputs": [],
   "source": [
    "# Converting to 3NF\n",
    "\n",
    "-- Create a new table to satisfy 3NF\n",
    "CREATE TABLE car_model(\n",
    "  model VARCHAR(128),\n",
    "  manufacturer VARCHAR(128),\n",
    "  type_car VARCHAR(128)\n",
    ");\n",
    "\n",
    "-- Drop columns in rental_cars to satisfy 3NF\n",
    "ALTER TABLE rental_cars\n",
    "DROP COLUMN manufacturer, \n",
    "DROP COLUMN type_car;"
   ]
  },
  {
   "cell_type": "markdown",
   "metadata": {},
   "source": [
    "## Database Views\n"
   ]
  },
  {
   "cell_type": "code",
   "execution_count": null,
   "metadata": {},
   "outputs": [],
   "source": [
    "# Viewing views\n",
    "\n",
    "-- Get all non-systems views\n",
    "SELECT * FROM information_schema.views\n",
    "WHERE table_schema NOT IN ('pg_catalog', 'information_schema');"
   ]
  },
  {
   "cell_type": "code",
   "execution_count": null,
   "metadata": {},
   "outputs": [],
   "source": [
    "# Creating and querying a view\n",
    "\n",
    "-- Create a view for reviews with a score above 9\n",
    "CREATE VIEW high_scores AS\n",
    "SELECT * FROM REVIEWS\n",
    "WHERE score > 9;\n",
    "\n",
    "########################################################################\n",
    "\n",
    "-- Create a view for reviews with a score above 9-- Revoke everyone's update and insert privileges\n",
    "REVOKE UPDATE, INSERT ON long_reviews FROM PUBLIC; \n",
    "\n",
    "-- Grant editor update and insert privileges \n",
    "GRANT UPDATE, INSERT ON long_reviews TO editor; \n",
    "CREATE VIEW high_scores AS\n",
    "SELECT * FROM REVIEWS\n",
    "WHERE score > 9;\n",
    "\n",
    "-- Count the number of self-released works in high_scores\n",
    "SELECT COUNT(*) FROM high_scores\n",
    "INNER JOIN labels ON high_scores.reviewid = labels.reviewid\n",
    "WHERE label = 'self-released';"
   ]
  },
  {
   "cell_type": "code",
   "execution_count": null,
   "metadata": {},
   "outputs": [],
   "source": [
    "# Creating a view from other views\n",
    "\n",
    "-- Create a view with the top artists in 2017\n",
    "CREATE VIEW top_artists_2017 AS\n",
    "-- with only one column holding the artist field\n",
    "SELECT artist_title.artist FROM artist_title\n",
    "INNER JOIN top_15_2017\n",
    "ON artist_title.reviewid = top_15_2017.reviewid;\n",
    "\n",
    "-- Output the new view\n",
    "SELECT * FROM top_artists_2017;"
   ]
  },
  {
   "cell_type": "code",
   "execution_count": null,
   "metadata": {},
   "outputs": [],
   "source": [
    "# Granting and revoking access\n",
    "\n",
    "-- Revoke everyone's update and insert privileges\n",
    "REVOKE UPDATE, INSERT ON long_reviews FROM PUBLIC; \n",
    "\n",
    "-- Grant editor update and insert privileges \n",
    "GRANT UPDATE, INSERT ON long_reviews TO editor; "
   ]
  },
  {
   "cell_type": "code",
   "execution_count": null,
   "metadata": {},
   "outputs": [],
   "source": [
    "# Redefining a view\n",
    "\n",
    "-- Redefine the artist_title view to have a label column\n",
    "CREATE OR REPLACE VIEW artist_title AS\n",
    "SELECT reviews.reviewid, reviews.title, artists.artist, labels.label\n",
    "FROM reviews\n",
    "INNER JOIN artists\n",
    "ON artists.reviewid = reviews.reviewid\n",
    "INNER JOIN labels\n",
    "ON labels.reviewid = reviews.reviewid;\n",
    "\n",
    "SELECT * FROM artist_title;"
   ]
  },
  {
   "cell_type": "code",
   "execution_count": null,
   "metadata": {},
   "outputs": [],
   "source": [
    "# Creating and refreshing a materialized view\n",
    "\n",
    "-- Create a materialized view called genre_count \n",
    "CREATE MATERIALIZED VIEW genre_count AS\n",
    "SELECT genre, COUNT(*) \n",
    "FROM genres\n",
    "GROUP BY genre;\n",
    "\n",
    "INSERT INTO genres\n",
    "VALUES (50000, 'classical');\n",
    "\n",
    "-- Refresh genre_count\n",
    "REFRESH MATERIALIZED VIEW genre_count;\n",
    "\n",
    "SELECT * FROM genre_count;"
   ]
  },
  {
   "cell_type": "markdown",
   "metadata": {},
   "source": [
    "## Database Management\n"
   ]
  },
  {
   "cell_type": "code",
   "execution_count": null,
   "metadata": {},
   "outputs": [],
   "source": [
    "# Create a role\n",
    "\n",
    "-- Create a data scientist role\n",
    "CREATE ROLE data_scientist;\n",
    "\n",
    "########################################################################\n",
    "\n",
    "-- Create a role for Marta\n",
    "CREATE ROLE marta LOGIN;\n",
    "\n",
    "########################################################################\n",
    "\n",
    "-- Create an admin role\n",
    "CREATE ROLE admin WITH CREATEDB CREATEROLE;"
   ]
  },
  {
   "cell_type": "code",
   "execution_count": null,
   "metadata": {},
   "outputs": [],
   "source": [
    "# GRANT privileges and ALTER attributes\n",
    "\n",
    "-- Grant data_scientist update and insert privileges\n",
    "GRANT UPDATE, INSERT ON long_reviews TO data_scientist;\n",
    "\n",
    "-- Give Marta's role a password\n",
    "ALTER ROLE marta WITH PASSWORD 's3cur3p@ssw0rd';"
   ]
  },
  {
   "cell_type": "code",
   "execution_count": null,
   "metadata": {},
   "outputs": [],
   "source": [
    "# Add a user role to a group role\n",
    "\n",
    "-- Add Marta to the data scientist group\n",
    "GRANT data_scientist TO marta;\n",
    "\n",
    "-- Celebrate! You hired data scientists.\n",
    "\n",
    "-- Remove Marta from the data scientist group\n",
    "REVOKE data_scientist FROM marta;"
   ]
  },
  {
   "cell_type": "code",
   "execution_count": null,
   "metadata": {},
   "outputs": [],
   "source": [
    "# Creating vertical partitions\n",
    "\n",
    "-- Create a new table called film_descriptions\n",
    "CREATE TABLE film_descriptions (\n",
    "    film_id INT,\n",
    "    long_description TEXT\n",
    ");\n",
    "\n",
    "-- Copy the descriptions from the film table\n",
    "INSERT INTO film_descriptions\n",
    "SELECT film_id, long_description FROM film;\n",
    "\n",
    "########################################################################\n",
    "\n",
    "-- Create a new table called film_descriptions\n",
    "CREATE TABLE film_descriptions (\n",
    "    film_id INT,\n",
    "    long_description TEXT\n",
    ");\n",
    "\n",
    "-- Copy the descriptions from the film table\n",
    "INSERT INTO film_descriptions\n",
    "SELECT film_id, long_description FROM film;\n",
    "    \n",
    "-- Drop the column in the original table\n",
    "ALTER TABLE film DROP COLUMN long_description;\n",
    "\n",
    "-- Join to create the original table\n",
    "SELECT * FROM film \n",
    "JOIN film_descriptions USING(film_id);"
   ]
  },
  {
   "cell_type": "code",
   "execution_count": null,
   "metadata": {},
   "outputs": [],
   "source": [
    "# Creating horizontal partitions\n",
    "\n",
    "-- Create a new table called film_partitioned\n",
    "CREATE TABLE film_partitioned (\n",
    "  film_id INT,\n",
    "  title TEXT NOT NULL,\n",
    "  release_year TEXT\n",
    ")\n",
    "PARTITION BY LIST (release_year);\n",
    "\n",
    "########################################################################\n",
    "\n",
    "-- Create a new table called film_partitioned\n",
    "CREATE TABLE film_partitioned (\n",
    "  film_id INT,\n",
    "  title TEXT NOT NULL,\n",
    "  release_year TEXT\n",
    ")\n",
    "PARTITION BY LIST (release_year);\n",
    "\n",
    "-- Create the partitions for 2019, 2018, and 2017\n",
    "CREATE TABLE film_2019\n",
    "\tPARTITION OF film_partitioned FOR VALUES IN ('2019');\n",
    "\n",
    "CREATE TABLE film_2018\n",
    "\tPARTITION OF film_partitioned FOR VALUES IN ('2018');\n",
    "\n",
    "CREATE TABLE film_2017\n",
    "\tPARTITION OF film_partitioned FOR VALUES IN ('2017');\n",
    "    \n",
    "########################################################################\n",
    "\n",
    "-- Create a new table called film_partitioned\n",
    "CREATE TABLE film_partitioned (\n",
    "  film_id INT,\n",
    "  title TEXT NOT NULL,\n",
    "  release_year TEXT\n",
    ")\n",
    "PARTITION BY LIST (release_year);\n",
    "\n",
    "-- Create the partitions for 2019, 2018, and 2017\n",
    "CREATE TABLE film_2019\n",
    "\tPARTITION OF film_partitioned FOR VALUES IN ('2019');\n",
    "\n",
    "CREATE TABLE film_2018\n",
    "\tPARTITION OF film_partitioned FOR VALUES IN ('2018');\n",
    "\n",
    "CREATE TABLE film_2017\n",
    "\tPARTITION OF film_partitioned FOR VALUES IN ('2017');\n",
    "\n",
    "-- Insert the data into film_partitioned\n",
    "INSERT INTO film_partitioned\n",
    "SELECT film_id, title, release_year FROM film;\n",
    "\n",
    "-- View film_partitioned\n",
    "SELECT * FROM film_partitioned;"
   ]
  },
  {
   "cell_type": "code",
   "execution_count": null,
   "metadata": {},
   "outputs": [],
   "source": []
  }
 ],
 "metadata": {
  "kernelspec": {
   "display_name": "Python 3",
   "language": "python",
   "name": "python3"
  },
  "language_info": {
   "codemirror_mode": {
    "name": "ipython",
    "version": 3
   },
   "file_extension": ".py",
   "mimetype": "text/x-python",
   "name": "python",
   "nbconvert_exporter": "python",
   "pygments_lexer": "ipython3",
   "version": "3.8.6"
  }
 },
 "nbformat": 4,
 "nbformat_minor": 4
}
